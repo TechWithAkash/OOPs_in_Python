{
 "cells": [
  {
   "cell_type": "markdown",
   "id": "fc9e840e-b03a-4934-9c28-e35dc42e8ca7",
   "metadata": {},
   "source": [
    "Q1, Create a vehicle class with an init method having instance variables as name_of_vehicle, max_speed\n",
    "and average_of_vehicle."
   ]
  },
  {
   "cell_type": "code",
   "execution_count": 1,
   "id": "96410df5-486f-48d1-9a87-1588e05d2415",
   "metadata": {},
   "outputs": [],
   "source": [
    "class vehicle :\n",
    "    \n",
    "    def __init__(self , name_of_vehicle , max_speed , average_of_vehicle):\n",
    "        \n",
    "        self.name_of_vehicle = name_of_vehicle\n",
    "        self.max_speed = max_speed\n",
    "        self.average_of_vehicle = average_of_vehicle\n",
    "    \n",
    "    def vehicle_details(self):\n",
    "        \n",
    "        return  self.name_of_vehicle,self.max_speed,self.average_of_vehicle\n",
    "    \n",
    "    \n",
    "\n",
    "    "
   ]
  },
  {
   "cell_type": "code",
   "execution_count": 2,
   "id": "08441ad0-d9e3-4370-8861-704edf0320bb",
   "metadata": {},
   "outputs": [],
   "source": [
    "Akash = vehicle(\"Rolls Royace\" , 500 , 200)"
   ]
  },
  {
   "cell_type": "code",
   "execution_count": 3,
   "id": "a360d11e-5d82-4853-b35e-d621e9996e11",
   "metadata": {},
   "outputs": [
    {
     "data": {
      "text/plain": [
       "'Rolls Royace'"
      ]
     },
     "execution_count": 3,
     "metadata": {},
     "output_type": "execute_result"
    }
   ],
   "source": [
    "Akash.name_of_vehicle"
   ]
  },
  {
   "cell_type": "code",
   "execution_count": 4,
   "id": "1e23e762-745b-4e9a-af82-c015018ac0db",
   "metadata": {},
   "outputs": [
    {
     "data": {
      "text/plain": [
       "500"
      ]
     },
     "execution_count": 4,
     "metadata": {},
     "output_type": "execute_result"
    }
   ],
   "source": [
    "Akash.max_speed"
   ]
  },
  {
   "cell_type": "code",
   "execution_count": 5,
   "id": "92b5508b-4164-47b6-bbe1-19d35ecfe0e5",
   "metadata": {},
   "outputs": [
    {
     "data": {
      "text/plain": [
       "200"
      ]
     },
     "execution_count": 5,
     "metadata": {},
     "output_type": "execute_result"
    }
   ],
   "source": [
    "Akash.average_of_vehicle"
   ]
  },
  {
   "cell_type": "code",
   "execution_count": null,
   "id": "b7ca30b5-0db9-4700-8210-7d009d55e099",
   "metadata": {},
   "outputs": [],
   "source": []
  },
  {
   "cell_type": "markdown",
   "id": "64970c44-c20c-421c-a076-55f604100ce2",
   "metadata": {},
   "source": [
    "Q2. Create a child class car from the vehicle class created in Que 1, which will inherit the vehicle class.\n",
    "Create a method named seating_capacity which takes capacity as an argument and returns the name of\n",
    "the vehicle and its seating capacity."
   ]
  },
  {
   "cell_type": "code",
   "execution_count": 28,
   "id": "6c916033-d6c4-44e3-b69e-fce09eabbd56",
   "metadata": {},
   "outputs": [],
   "source": [
    "class Vehicle:\n",
    "    def __init__(self, name, color):\n",
    "        self.name = name\n",
    "        self.color = color\n",
    "\n",
    "    def display_info(self):\n",
    "        print(\"Name: \",self.name)\n",
    "        print(\"Color: \",self.color)\n"
   ]
  },
  {
   "cell_type": "code",
   "execution_count": 29,
   "id": "0c9b415e-c684-4abf-b1ec-f8741a90f15f",
   "metadata": {},
   "outputs": [],
   "source": [
    "class Car(Vehicle):\n",
    "    def seating_capacity(self,capacity):\n",
    "        \n",
    "                return f\"The {self.name} has a seating capacity of {capacity}.\"\n"
   ]
  },
  {
   "cell_type": "code",
   "execution_count": 31,
   "id": "bbb1d535-aa4f-4dd3-b7db-a8adea8fed4e",
   "metadata": {},
   "outputs": [
    {
     "name": "stdout",
     "output_type": "stream",
     "text": [
      "Name:  BMW\n",
      "Color:  WHITE\n",
      "The BMW has a seating capacity of 5.\n"
     ]
    }
   ],
   "source": [
    "my_car = Car(\"BMW\", \"WHITE\")\n",
    "my_car.display_info()\n",
    "print(my_car.seating_capacity(5))"
   ]
  },
  {
   "cell_type": "code",
   "execution_count": null,
   "id": "7a7b954e-018c-4c17-9c83-00a3f7886027",
   "metadata": {},
   "outputs": [],
   "source": []
  },
  {
   "cell_type": "markdown",
   "id": "174253c9-b8e6-41c0-ade4-1e15369453a9",
   "metadata": {},
   "source": [
    "Q3. What is multiple inheritance? Write a python code to demonstrate multiple inheritance."
   ]
  },
  {
   "cell_type": "markdown",
   "id": "049a762e-9fce-40b7-9dc0-ba8f0f00c803",
   "metadata": {},
   "source": [
    "==>>Multiple Inheritance \n",
    "When a class is derived from more than one base class it is called multiple Inheritance. The derived class inherits all the features of the base case"
   ]
  },
  {
   "cell_type": "code",
   "execution_count": 36,
   "id": "ecacc4e1-29b8-4143-944b-d1a4cf4406a0",
   "metadata": {},
   "outputs": [],
   "source": [
    "#Example of MUltiple inheritance\n",
    "\n",
    "class person1 :\n",
    "    \n",
    "    def person1_details(self):\n",
    "        return \"This will return person1 details\""
   ]
  },
  {
   "cell_type": "code",
   "execution_count": 37,
   "id": "ff5d7298-3f06-41e6-9f14-90dc19de11c2",
   "metadata": {},
   "outputs": [],
   "source": [
    "class person2 :\n",
    "    \n",
    "    def person2_details(self):\n",
    "        return \"This will return person2 details\""
   ]
  },
  {
   "cell_type": "code",
   "execution_count": 38,
   "id": "603a5880-d174-480d-a41c-12c239935c6e",
   "metadata": {},
   "outputs": [],
   "source": [
    "class person3(person1 , person2) :\n",
    "    pass"
   ]
  },
  {
   "cell_type": "code",
   "execution_count": 39,
   "id": "d4c9dce0-72c1-4b54-a761-85199d68507a",
   "metadata": {},
   "outputs": [],
   "source": [
    "object_person3 = person3()"
   ]
  },
  {
   "cell_type": "code",
   "execution_count": 40,
   "id": "a5c1958d-92f9-49bc-a4d3-2239d8b61c45",
   "metadata": {},
   "outputs": [
    {
     "data": {
      "text/plain": [
       "'This will return person1 details'"
      ]
     },
     "execution_count": 40,
     "metadata": {},
     "output_type": "execute_result"
    }
   ],
   "source": [
    "object_person3.person1_details()"
   ]
  },
  {
   "cell_type": "code",
   "execution_count": 41,
   "id": "8dec1341-bea8-4548-9f23-13f5d9122657",
   "metadata": {},
   "outputs": [
    {
     "data": {
      "text/plain": [
       "'This will return person2 details'"
      ]
     },
     "execution_count": 41,
     "metadata": {},
     "output_type": "execute_result"
    }
   ],
   "source": [
    "object_person3.person2_details()"
   ]
  },
  {
   "cell_type": "code",
   "execution_count": null,
   "id": "15cb83ae-e8a6-4074-8c44-7c3d12254f5b",
   "metadata": {},
   "outputs": [],
   "source": []
  },
  {
   "cell_type": "markdown",
   "id": "7db723a4-388b-460b-984e-3fea7c285917",
   "metadata": {},
   "source": [
    "Q4. What are getter and setter in python? Create a class and create a getter and a setter method in this\n",
    "class."
   ]
  },
  {
   "cell_type": "markdown",
   "id": "dd286ade-ec1e-4732-abbf-8a9bf615a588",
   "metadata": {},
   "source": [
    "==>>We use getters & setters to add validation logic around getting and setting a value.\n",
    "To avoid direct access of a class field i.e. private variables cannot be accessed directly or modified by external user.\n"
   ]
  },
  {
   "cell_type": "code",
   "execution_count": 46,
   "id": "c8aa353c-b2e9-4a09-88be-d1de9701e024",
   "metadata": {},
   "outputs": [],
   "source": [
    "##Example of getter and setter function\n",
    "\n",
    "class student:\n",
    "    def __init__(self, age = 0):\n",
    "        self.age = age\n",
    "        \n",
    "    def get_age(self):\n",
    "        return self._age\n",
    "    \n",
    "    def set_age(self,x):\n",
    "        self._age = x\n",
    "        \n"
   ]
  },
  {
   "cell_type": "code",
   "execution_count": 47,
   "id": "9baebd5d-006c-4117-8dd0-e741503f13c3",
   "metadata": {},
   "outputs": [],
   "source": [
    "John = student()"
   ]
  },
  {
   "cell_type": "code",
   "execution_count": 48,
   "id": "46755dc0-9ccc-44f6-ab16-b3d514e82e5a",
   "metadata": {},
   "outputs": [],
   "source": [
    "John.set_age(25)"
   ]
  },
  {
   "cell_type": "code",
   "execution_count": 49,
   "id": "c1a616dd-42da-4d80-8483-7a2ebc7cd99e",
   "metadata": {},
   "outputs": [
    {
     "data": {
      "text/plain": [
       "25"
      ]
     },
     "execution_count": 49,
     "metadata": {},
     "output_type": "execute_result"
    }
   ],
   "source": [
    "John.get_age()"
   ]
  },
  {
   "cell_type": "code",
   "execution_count": null,
   "id": "9a1f59a8-0600-4501-80ce-0c61cf9ce38c",
   "metadata": {},
   "outputs": [],
   "source": []
  },
  {
   "cell_type": "markdown",
   "id": "c5ffff15-ab01-4b12-8555-13ababcf4e42",
   "metadata": {},
   "source": [
    "Q5.What is method overriding in python? Write a python code to demonstrate method overriding."
   ]
  },
  {
   "cell_type": "markdown",
   "id": "02ff2091-d1a7-4a23-b02d-4ed1102c5571",
   "metadata": {},
   "source": [
    "==>> When a method in a subclass has the same name, same parameters or signature and same return type(or sub-type) as a method in its super-class, then the method in the subclass is said to override the method in the super-class."
   ]
  },
  {
   "cell_type": "code",
   "execution_count": 51,
   "id": "3e6edae3-0805-400c-a56a-1966e775278f",
   "metadata": {},
   "outputs": [],
   "source": [
    "#Example of methid overriding\n",
    "\n",
    "class car :\n",
    "    def __init__(self):\n",
    "        self.value = \"This is a Four Wheeler Vehicle\"\n",
    "        \n",
    "    def show(self):\n",
    "        print(self.value)"
   ]
  },
  {
   "cell_type": "code",
   "execution_count": 56,
   "id": "b68bb052-d74c-4118-a325-8d1edd22de1f",
   "metadata": {},
   "outputs": [],
   "source": [
    "class toyota(car):\n",
    "    \n",
    "     def __init__(self):\n",
    "        self.value = \"This is a also  Four Wheeler Vehicle\"\n",
    "        \n",
    "        def show(self):\n",
    "            print(self.value)"
   ]
  },
  {
   "cell_type": "code",
   "execution_count": 60,
   "id": "1f9ee3b9-f94f-4f59-bc53-414cad1624c7",
   "metadata": {},
   "outputs": [],
   "source": [
    "toyota_obj = toyota()\n",
    "car_obj = car()"
   ]
  },
  {
   "cell_type": "code",
   "execution_count": 62,
   "id": "b67e20bc-adf6-4235-b9d4-1324eb8abd7e",
   "metadata": {},
   "outputs": [
    {
     "name": "stdout",
     "output_type": "stream",
     "text": [
      "This is a also  Four Wheeler Vehicle\n"
     ]
    }
   ],
   "source": [
    "toyota_obj.show()"
   ]
  },
  {
   "cell_type": "code",
   "execution_count": 63,
   "id": "a4db9bc6-6d27-42d8-92a1-cb537b00d393",
   "metadata": {},
   "outputs": [
    {
     "name": "stdout",
     "output_type": "stream",
     "text": [
      "This is a Four Wheeler Vehicle\n"
     ]
    }
   ],
   "source": [
    "car_obj.show()"
   ]
  },
  {
   "cell_type": "code",
   "execution_count": null,
   "id": "0078dacb-0563-4a24-a988-57a26d17fa6f",
   "metadata": {},
   "outputs": [],
   "source": []
  }
 ],
 "metadata": {
  "kernelspec": {
   "display_name": "Python 3 (ipykernel)",
   "language": "python",
   "name": "python3"
  },
  "language_info": {
   "codemirror_mode": {
    "name": "ipython",
    "version": 3
   },
   "file_extension": ".py",
   "mimetype": "text/x-python",
   "name": "python",
   "nbconvert_exporter": "python",
   "pygments_lexer": "ipython3",
   "version": "3.10.8"
  }
 },
 "nbformat": 4,
 "nbformat_minor": 5
}
